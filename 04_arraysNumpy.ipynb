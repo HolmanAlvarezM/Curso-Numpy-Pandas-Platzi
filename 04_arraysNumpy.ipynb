{
 "cells": [
  {
   "attachments": {},
   "cell_type": "markdown",
   "metadata": {},
   "source": [
    "# Arrays\n",
    "https://numpy.org/doc/stable/reference/routines.array-creation.html"
   ]
  },
  {
   "cell_type": "code",
   "execution_count": 1,
   "metadata": {},
   "outputs": [],
   "source": [
    "import numpy as np"
   ]
  },
  {
   "cell_type": "code",
   "execution_count": 2,
   "metadata": {},
   "outputs": [
    {
     "data": {
      "text/plain": [
       "[0, 1, 2, 3, 4, 5, 6, 7, 8, 9]"
      ]
     },
     "execution_count": 2,
     "metadata": {},
     "output_type": "execute_result"
    }
   ],
   "source": [
    "list(range(0,10))"
   ]
  },
  {
   "attachments": {},
   "cell_type": "markdown",
   "metadata": {},
   "source": [
    "### np.arange(posi, posn, step)"
   ]
  },
  {
   "cell_type": "code",
   "execution_count": 3,
   "metadata": {},
   "outputs": [
    {
     "data": {
      "text/plain": [
       "array([0, 1, 2, 3, 4, 5, 6, 7, 8, 9])"
      ]
     },
     "execution_count": 3,
     "metadata": {},
     "output_type": "execute_result"
    }
   ],
   "source": [
    "np.arange(0,10)"
   ]
  },
  {
   "attachments": {},
   "cell_type": "markdown",
   "metadata": {},
   "source": [
    "### Arrays\n",
    "* np.zeros(size) or np.zeros((column, row))\n",
    "* np.ones(size) or np.ones((column, row))\n",
    "* np.linspace(valueIn, valueEnd, cant)\n",
    "* np.eye(size) **Create a matriz with main diagonal in 1**\n",
    "* np.random.rand() **Create random number between 0 and 1\n",
    "* np.random.rand(size) **Create vector of size value with random numbers between 0 and 1\n",
    "* np.random.rand(size, size) **Create matriz of size value with random numbers between 0 and 1\n",
    "* np.random.randint(betwen values) **Between initial and final value\n",
    "* np.random.randint(betwen values, (structure)) **Between initial and final value in a structure for example matriz x * x"
   ]
  },
  {
   "cell_type": "code",
   "execution_count": 14,
   "metadata": {},
   "outputs": [
    {
     "name": "stdout",
     "output_type": "stream",
     "text": [
      "vector-> [0. 0. 0. 0. 0.]\n",
      "matriz \n",
      " [[0. 0. 0.]\n",
      " [0. 0. 0.]\n",
      " [0. 0. 0.]\n",
      " [0. 0. 0.]\n",
      " [0. 0. 0.]]\n"
     ]
    }
   ],
   "source": [
    "print('vector->', np.zeros(5))\n",
    "print('matriz \\n', np.zeros((5,3)))"
   ]
  },
  {
   "cell_type": "code",
   "execution_count": 15,
   "metadata": {},
   "outputs": [
    {
     "name": "stdout",
     "output_type": "stream",
     "text": [
      "vector-> [1. 1. 1. 1. 1.]\n",
      "matriz \n",
      " [[1. 1. 1.]\n",
      " [1. 1. 1.]\n",
      " [1. 1. 1.]\n",
      " [1. 1. 1.]\n",
      " [1. 1. 1.]]\n"
     ]
    }
   ],
   "source": [
    "print('vector->', np.ones(5))\n",
    "print('matriz \\n', np.ones((5,3)))"
   ]
  },
  {
   "cell_type": "code",
   "execution_count": 8,
   "metadata": {},
   "outputs": [
    {
     "data": {
      "text/plain": [
       "array([ 0.        ,  0.52631579,  1.05263158,  1.57894737,  2.10526316,\n",
       "        2.63157895,  3.15789474,  3.68421053,  4.21052632,  4.73684211,\n",
       "        5.26315789,  5.78947368,  6.31578947,  6.84210526,  7.36842105,\n",
       "        7.89473684,  8.42105263,  8.94736842,  9.47368421, 10.        ])"
      ]
     },
     "execution_count": 8,
     "metadata": {},
     "output_type": "execute_result"
    }
   ],
   "source": [
    "np.linspace(0, 10, 20)"
   ]
  },
  {
   "cell_type": "code",
   "execution_count": 9,
   "metadata": {},
   "outputs": [
    {
     "data": {
      "text/plain": [
       "array([[1., 0., 0., 0., 0.],\n",
       "       [0., 1., 0., 0., 0.],\n",
       "       [0., 0., 1., 0., 0.],\n",
       "       [0., 0., 0., 1., 0.],\n",
       "       [0., 0., 0., 0., 1.]])"
      ]
     },
     "execution_count": 9,
     "metadata": {},
     "output_type": "execute_result"
    }
   ],
   "source": [
    "np.eye(5)"
   ]
  },
  {
   "cell_type": "code",
   "execution_count": 16,
   "metadata": {},
   "outputs": [
    {
     "name": "stdout",
     "output_type": "stream",
     "text": [
      "number-> 0.2545451332647458\n",
      "vector-> [0.46643351 0.47042564 0.0315963  0.83310091]\n",
      "matriz \n",
      " [[0.54743057 0.94846987 0.2783     0.02160377]\n",
      " [0.48674369 0.25698393 0.45079389 0.80553324]\n",
      " [0.1973641  0.45077276 0.60641066 0.42615505]]\n"
     ]
    }
   ],
   "source": [
    "print('number->', np.random.rand())\n",
    "print('vector->', np.random.rand(4))\n",
    "print('matriz \\n', np.random.rand(3,4))"
   ]
  },
  {
   "cell_type": "code",
   "execution_count": 17,
   "metadata": {},
   "outputs": [
    {
     "name": "stdout",
     "output_type": "stream",
     "text": [
      "single:  7\n",
      "matriz: \n",
      " [[ 6  9  6 13 14  5  7  4 10  9]\n",
      " [ 3 12  7 13 11  7  6  5  7  4]\n",
      " [12  2  8  3  2  7  7 10  7 13]\n",
      " [14 13  1  5  5 12  4  2  8  2]\n",
      " [12  6  5  2 11 11 12 13  5 13]\n",
      " [11 14  4  7  7 11 11 12  7  3]\n",
      " [ 7  3 11 11 10  1  4  6  4 12]\n",
      " [ 6  3  9 13 14  1  4 13 14  7]\n",
      " [ 7  5  1 12  9  6  9 10  6 10]\n",
      " [ 8  3 13 10  3  5 13  4 14  6]]\n"
     ]
    }
   ],
   "source": [
    "print('single: ', np.random.randint(1,15))\n",
    "print('matriz: \\n', np.random.randint(1,15,(10,10)))"
   ]
  }
 ],
 "metadata": {
  "kernelspec": {
   "display_name": "cursoNpPd",
   "language": "python",
   "name": "python3"
  },
  "language_info": {
   "codemirror_mode": {
    "name": "ipython",
    "version": 3
   },
   "file_extension": ".py",
   "mimetype": "text/x-python",
   "name": "python",
   "nbconvert_exporter": "python",
   "pygments_lexer": "ipython3",
   "version": "3.11.3"
  },
  "orig_nbformat": 4
 },
 "nbformat": 4,
 "nbformat_minor": 2
}
