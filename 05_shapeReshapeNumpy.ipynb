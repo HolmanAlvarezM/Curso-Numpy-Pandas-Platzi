{
 "cells": [
  {
   "attachments": {},
   "cell_type": "markdown",
   "metadata": {},
   "source": [
    "# Shape y reshape\n",
    "https://numpy.org/doc/stable/reference/generated/numpy.ndarray.shape.html"
   ]
  },
  {
   "cell_type": "code",
   "execution_count": 1,
   "metadata": {},
   "outputs": [],
   "source": [
    "import numpy as np"
   ]
  },
  {
   "cell_type": "code",
   "execution_count": 3,
   "metadata": {},
   "outputs": [],
   "source": [
    "arr = np.random.randint(1,10,(3,2))"
   ]
  },
  {
   "cell_type": "code",
   "execution_count": 4,
   "metadata": {},
   "outputs": [
    {
     "data": {
      "text/plain": [
       "(3, 2)"
      ]
     },
     "execution_count": 4,
     "metadata": {},
     "output_type": "execute_result"
    }
   ],
   "source": [
    "arr.shape"
   ]
  },
  {
   "cell_type": "code",
   "execution_count": 14,
   "metadata": {},
   "outputs": [
    {
     "name": "stdout",
     "output_type": "stream",
     "text": [
      "Original \n",
      " [[2 4]\n",
      " [3 2]\n",
      " [9 6]]\n",
      "form 1. -> [[2 4 3 2 9 6]]\n",
      "form 2. -> [[2 4 3 2 9 6]]\n",
      "Form C \n",
      " [[2 4 3]\n",
      " [2 9 6]]\n",
      "Form F \n",
      " [[2 9 2]\n",
      " [3 4 6]]\n",
      "Form A \n",
      " [[2 4 3]\n",
      " [2 9 6]]\n"
     ]
    }
   ],
   "source": [
    "print('Original \\n', arr)\n",
    "print('form 1. ->',arr.reshape(1,6))\n",
    "print('form 2. ->',np.reshape(arr,(1,6)))\n",
    "print('Form C \\n', np.reshape(arr,(2,3),'C')) # Language C\n",
    "print('Form F \\n', np.reshape(arr,(2,3),'F')) # Language Fortran\n",
    "print('Form A \\n', np.reshape(arr,(2,3),'A')) # Memory save optimization"
   ]
  },
  {
   "cell_type": "code",
   "execution_count": null,
   "metadata": {},
   "outputs": [],
   "source": []
  }
 ],
 "metadata": {
  "kernelspec": {
   "display_name": "cursoNpPd",
   "language": "python",
   "name": "python3"
  },
  "language_info": {
   "codemirror_mode": {
    "name": "ipython",
    "version": 3
   },
   "file_extension": ".py",
   "mimetype": "text/x-python",
   "name": "python",
   "nbconvert_exporter": "python",
   "pygments_lexer": "ipython3",
   "version": "3.11.3"
  },
  "orig_nbformat": 4
 },
 "nbformat": 4,
 "nbformat_minor": 2
}
